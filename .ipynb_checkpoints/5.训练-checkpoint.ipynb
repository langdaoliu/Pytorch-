{
 "cells": [
  {
   "cell_type": "code",
   "execution_count": 13,
   "metadata": {},
   "outputs": [],
   "source": [
    "# #建立一个测试网络\n",
    "# import torch.nn as nn\n",
    "# class TestNet(nn.Module):\n",
    "#     def __init__(self):\n",
    "#         super(TestNet, self).__init__()\n",
    "#         self.hidden = nn.Sequential(nn.Linear(13,10),\n",
    "#                                    nn.ReLU())\n",
    "#         self.regression = nn.Linear(10,1)\n",
    "#     def forward(self, x):\n",
    "#         x = self.hidden(x)\n",
    "#         output = self.regression(x)\n",
    "#         return output\n",
    "# testnet = TestNet()"
   ]
  },
  {
   "cell_type": "code",
   "execution_count": 3,
   "metadata": {},
   "outputs": [
    {
     "data": {
      "text/plain": [
       "TestNet(\n",
       "  (hidden): Sequential(\n",
       "    (0): Linear(in_features=13, out_features=10, bias=True)\n",
       "    (1): ReLU()\n",
       "  )\n",
       "  (regression): Linear(in_features=10, out_features=1, bias=True)\n",
       ")"
      ]
     },
     "execution_count": 3,
     "metadata": {},
     "output_type": "execute_result"
    }
   ],
   "source": [
    "testnet"
   ]
  },
  {
   "cell_type": "code",
   "execution_count": 5,
   "metadata": {},
   "outputs": [],
   "source": [
    "from torch.optim import Adam\n",
    "#为不同的层定义统一的学习率\n",
    "optimizer = Adam(testnet.parameters(), lr=0.001)\n",
    "#为不同的层定义不同的学习率\n",
    "optimizer = Adam([{\"params\":testnet.hidden.parameters(),\"lr\":0.0001},\n",
    "                 {\"params\":testnet.regression.parameters(),\"lr\":0.01}],\n",
    "                lr = 1e-2)#没有特殊指定的使用 lr = 1e-2"
   ]
  },
  {
   "cell_type": "code",
   "execution_count": null,
   "metadata": {},
   "outputs": [],
   "source": [
    "#目标函数优化常用格式\n",
    "for input, target in dataset:\n",
    "    optimizer.zero_grad()   #梯度清零\n",
    "    output = testnet(input)  #计算预测值\n",
    "    loss = loss_fn(output, target)    #计算损失\n",
    "    loss.backward()       #损失后向传播\n",
    "    optimizer.step()     #更新网络参数"
   ]
  },
  {
   "cell_type": "code",
   "execution_count": 9,
   "metadata": {},
   "outputs": [
    {
     "name": "stderr",
     "output_type": "stream",
     "text": [
      "D:\\TOOL\\Anoconda\\envs\\torch\\lib\\site-packages\\ipykernel_launcher.py:4: UserWarning: nn.init.normal is now deprecated in favor of nn.init.normal_.\n",
      "  after removing the cwd from sys.path.\n"
     ]
    },
    {
     "data": {
      "text/plain": [
       "<function matplotlib.pyplot.show(*args, **kw)>"
      ]
     },
     "execution_count": 9,
     "metadata": {},
     "output_type": "execute_result"
    },
    {
     "data": {
      "image/png": "[encoded data removed]",
      "text/plain": [
       "<Figure size 576x432 with 1 Axes>"
      ]
     },
     "metadata": {
      "needs_background": "light"
     },
     "output_type": "display_data"
    }
   ],
   "source": [
    "import torch\n",
    "conv1 = nn.Conv2d(3,16,3)\n",
    "torch.manual_seed(12)\n",
    "nn.init.normal(conv1.weight,mean=0,std=1)\n",
    "#使用直方图可视化weight\n",
    "import matplotlib.pyplot as plt\n",
    "plt.figure(figsize=(8, 6))\n",
    "plt.hist(conv1.weight.data.numpy().reshape((-1,1)),bins = 30)\n",
    "plt.show"
   ]
  },
  {
   "cell_type": "code",
   "execution_count": 10,
   "metadata": {},
   "outputs": [
    {
     "name": "stderr",
     "output_type": "stream",
     "text": [
      "D:\\TOOL\\Anoconda\\envs\\torch\\lib\\site-packages\\ipykernel_launcher.py:1: UserWarning: nn.init.constant is now deprecated in favor of nn.init.constant_.\n",
      "  \"\"\"Entry point for launching an IPython kernel.\n"
     ]
    },
    {
     "data": {
      "text/plain": [
       "Parameter containing:\n",
       "tensor([0.1000, 0.1000, 0.1000, 0.1000, 0.1000, 0.1000, 0.1000, 0.1000, 0.1000,\n",
       "        0.1000, 0.1000, 0.1000, 0.1000, 0.1000, 0.1000, 0.1000],\n",
       "       requires_grad=True)"
      ]
     },
     "execution_count": 10,
     "metadata": {},
     "output_type": "execute_result"
    }
   ],
   "source": [
    "nn.init.constant(conv1.bias,val = 0.1)"
   ]
  },
  {
   "cell_type": "code",
   "execution_count": 16,
   "metadata": {},
   "outputs": [
    {
     "name": "stdout",
     "output_type": "stream",
     "text": [
      "TestNet(\n",
      "  (conv1): Conv2d(3, 16, kernel_size=(3, 3), stride=(1, 1))\n",
      "  (hidden): Sequential(\n",
      "    (0): Linear(in_features=100, out_features=100, bias=True)\n",
      "    (1): ReLU()\n",
      "    (2): Linear(in_features=100, out_features=50, bias=True)\n",
      "    (3): ReLU()\n",
      "  )\n",
      "  (cla): Linear(in_features=50, out_features=10, bias=True)\n",
      ")\n"
     ]
    }
   ],
   "source": [
    "class TestNet(nn.Module):\n",
    "    def __init__(self):\n",
    "        super(TestNet,self).__init__()\n",
    "        self.conv1 = nn.Conv2d(3,16,3)\n",
    "        self.hidden = nn.Sequential(\n",
    "            nn.Linear(100,100),\n",
    "            nn.ReLU(),\n",
    "            nn.Linear(100,50),\n",
    "            nn.ReLU(),\n",
    "        )\n",
    "        self.cla = nn.Linear(50,10)\n",
    "    def forward(self, x):\n",
    "        x = self.conv1(x)\n",
    "        x = x.view(x.shape[0], -1)\n",
    "        x = self.hidden(x)\n",
    "        output = self.cla(x)\n",
    "        return output\n",
    "testnet = TestNet()\n",
    "print(testnet)"
   ]
  },
  {
   "cell_type": "code",
   "execution_count": 19,
   "metadata": {},
   "outputs": [],
   "source": [
    "#定义网络中的每个层进行权重初始化的函数\n",
    "def init_weights(m):\n",
    "    if type(m) == nn.Conv2d:\n",
    "        nn.init.normal(m.weight,mean=0,std=1)\n",
    "    if type(m) == nn.Linear:\n",
    "        nn.init.uniform(m.weight,a = -0.1, b = 0.1)\n",
    "        m.bias.data.fill_(0.001)"
   ]
  },
  {
   "cell_type": "code",
   "execution_count": 20,
   "metadata": {},
   "outputs": [
    {
     "name": "stderr",
     "output_type": "stream",
     "text": [
      "D:\\TOOL\\Anoconda\\envs\\torch\\lib\\site-packages\\ipykernel_launcher.py:4: UserWarning: nn.init.normal is now deprecated in favor of nn.init.normal_.\n",
      "  after removing the cwd from sys.path.\n",
      "D:\\TOOL\\Anoconda\\envs\\torch\\lib\\site-packages\\ipykernel_launcher.py:6: UserWarning: nn.init.uniform is now deprecated in favor of nn.init.uniform_.\n",
      "  \n"
     ]
    },
    {
     "data": {
      "text/plain": [
       "TestNet(\n",
       "  (conv1): Conv2d(3, 16, kernel_size=(3, 3), stride=(1, 1))\n",
       "  (hidden): Sequential(\n",
       "    (0): Linear(in_features=100, out_features=100, bias=True)\n",
       "    (1): ReLU()\n",
       "    (2): Linear(in_features=100, out_features=50, bias=True)\n",
       "    (3): ReLU()\n",
       "  )\n",
       "  (cla): Linear(in_features=50, out_features=10, bias=True)\n",
       ")"
      ]
     },
     "execution_count": 20,
     "metadata": {},
     "output_type": "execute_result"
    }
   ],
   "source": [
    "torch.manual_seed(13)\n",
    "testnet.apply(init_weights)"
   ]
  },
  {
   "cell_type": "markdown",
   "metadata": {},
   "source": [
    "# PyTorch 定义网络的方式"
   ]
  },
  {
   "cell_type": "code",
   "execution_count": 21,
   "metadata": {},
   "outputs": [
    {
     "name": "stderr",
     "output_type": "stream",
     "text": [
      "D:\\TOOL\\Anoconda\\envs\\torch\\lib\\importlib\\_bootstrap.py:219: RuntimeWarning: numpy.ufunc size changed, may indicate binary incompatibility. Expected 192 from C header, got 216 from PyObject\n",
      "  return f(*args, **kwds)\n"
     ]
    }
   ],
   "source": [
    "import torch\n",
    "import torch.nn as nn\n",
    "from torch.optim import SGD\n",
    "import torch.utils.data as Data\n",
    "from sklearn.datasets import load_boston\n",
    "from sklearn.preprocessing import StandardScaler\n",
    "import pandas as pd\n",
    "import numpy as np\n",
    "import matplotlib.pyplot as plt"
   ]
  },
  {
   "cell_type": "markdown",
   "metadata": {},
   "source": [
    "## 数据准备"
   ]
  },
  {
   "cell_type": "code",
   "execution_count": 22,
   "metadata": {},
   "outputs": [
    {
     "name": "stdout",
     "output_type": "stream",
     "text": [
      "boston_X (506, 13)\n"
     ]
    },
    {
     "data": {
      "image/png": "[encoded data removed]",
      "text/plain": [
       "<Figure size 432x288 with 1 Axes>"
      ]
     },
     "metadata": {
      "needs_background": "light"
     },
     "output_type": "display_data"
    }
   ],
   "source": [
    "#读取数据\n",
    "boston_X, boston_y = load_boston(return_X_y=True)\n",
    "print(\"boston_X\",boston_X.shape)\n",
    "plt.figure()\n",
    "plt.hist(boston_y,bins=20)\n",
    "plt.show()"
   ]
  },
  {
   "cell_type": "code",
   "execution_count": 27,
   "metadata": {},
   "outputs": [],
   "source": [
    "#数据标准化处理\n",
    "ss = StandardScaler(with_mean=True, with_std=True)\n",
    "boston_Xs = ss.fit_transform(boston_X)\n",
    "#将数据预处理为可以使用pytorch进行批训练的形式\n",
    "#训练集X转化为张量\n",
    "train_xt = torch.from_numpy(boston_Xs.astype(np.float32))\n",
    "#训练集y转化为张量\n",
    "train_yt = torch.from_numpy(boston_y.astype(np.float32))\n",
    "#用TensorDataset将X,Y整理到一起\n",
    "train_data = Data.TensorDataset(train_xt,train_yt)\n",
    "#定义一个数据加载器\n",
    "train_loader = Data.DataLoader(\n",
    "    dataset = train_data,\n",
    "    batch_size=128,\n",
    "    shuffle=True,\n",
    "    num_workers=1\n",
    ")"
   ]
  },
  {
   "cell_type": "markdown",
   "metadata": {},
   "source": [
    "## 网络定义和训练方式1"
   ]
  },
  {
   "cell_type": "code",
   "execution_count": 31,
   "metadata": {},
   "outputs": [],
   "source": [
    "class MLPmodel(nn.Module):\n",
    "    def __init__(self):\n",
    "        super(MLPmodel,self).__init__()\n",
    "        self.hidden1 = nn.Linear(\n",
    "            in_features=13,\n",
    "            out_features=10,\n",
    "            bias=True\n",
    "        )\n",
    "        self.activel1 = nn.ReLU()\n",
    "        #定义第一个隐藏层\n",
    "        self.hidden2 = nn.Linear(10,10)\n",
    "        self.activel2 = nn.ReLU()\n",
    "        self.regression = nn.Linear(10,1)\n",
    "    def forward(self, x):\n",
    "        x = self.hidden1(x) \n",
    "        x = self.activel1(x)\n",
    "        x = self.hidden2(x)\n",
    "        x = self.activel2(x)\n",
    "        output = self.regression(x)\n",
    "        return output"
   ]
  },
  {
   "cell_type": "code",
   "execution_count": 37,
   "metadata": {},
   "outputs": [
    {
     "name": "stdout",
     "output_type": "stream",
     "text": [
      "MLPmodel(\n",
      "  (hidden1): Linear(in_features=13, out_features=10, bias=True)\n",
      "  (activel1): ReLU()\n",
      "  (hidden2): Linear(in_features=10, out_features=10, bias=True)\n",
      "  (activel2): ReLU()\n",
      "  (regression): Linear(in_features=10, out_features=1, bias=True)\n",
      ")\n"
     ]
    }
   ],
   "source": [
    "mlpl = MLPmodel()\n",
    "print(mlpl)"
   ]
  },
  {
   "cell_type": "code",
   "execution_count": 38,
   "metadata": {},
   "outputs": [
    {
     "name": "stdout",
     "output_type": "stream",
     "text": [
      "epoch: 0 ----- step: 0 ------ train_loss tensor(562.6560)\n",
      "epoch: 0 ----- step: 1 ------ train_loss tensor(622.4241)\n",
      "epoch: 0 ----- step: 2 ------ train_loss tensor(585.0578)\n",
      "epoch: 0 ----- step: 3 ------ train_loss tensor(618.6097)\n",
      "epoch: 1 ----- step: 0 ------ train_loss tensor(628.2227)\n",
      "epoch: 1 ----- step: 1 ------ train_loss tensor(535.0374)\n",
      "epoch: 1 ----- step: 2 ------ train_loss tensor(559.2806)\n",
      "epoch: 1 ----- step: 3 ------ train_loss tensor(615.7246)\n",
      "epoch: 2 ----- step: 0 ------ train_loss tensor(472.8886)\n",
      "epoch: 2 ----- step: 1 ------ train_loss tensor(544.3488)\n",
      "epoch: 2 ----- step: 2 ------ train_loss tensor(647.8807)\n",
      "epoch: 2 ----- step: 3 ------ train_loss tensor(618.2200)\n",
      "epoch: 3 ----- step: 0 ------ train_loss tensor(595.2581)\n",
      "epoch: 3 ----- step: 1 ------ train_loss tensor(612.4661)\n",
      "epoch: 3 ----- step: 2 ------ train_loss tensor(448.5474)\n",
      "epoch: 3 ----- step: 3 ------ train_loss tensor(558.5400)\n",
      "epoch: 4 ----- step: 0 ------ train_loss tensor(526.4890)\n",
      "epoch: 4 ----- step: 1 ------ train_loss tensor(521.9000)\n",
      "epoch: 4 ----- step: 2 ------ train_loss tensor(523.6348)\n",
      "epoch: 4 ----- step: 3 ------ train_loss tensor(557.9786)\n",
      "epoch: 5 ----- step: 0 ------ train_loss tensor(498.3040)\n",
      "epoch: 5 ----- step: 1 ------ train_loss tensor(514.7123)\n",
      "epoch: 5 ----- step: 2 ------ train_loss tensor(553.6935)\n",
      "epoch: 5 ----- step: 3 ------ train_loss tensor(436.3925)\n",
      "epoch: 6 ----- step: 0 ------ train_loss tensor(457.2289)\n",
      "epoch: 6 ----- step: 1 ------ train_loss tensor(467.2542)\n",
      "epoch: 6 ----- step: 2 ------ train_loss tensor(467.5113)\n",
      "epoch: 6 ----- step: 3 ------ train_loss tensor(414.7235)\n",
      "epoch: 7 ----- step: 0 ------ train_loss tensor(427.4758)\n",
      "epoch: 7 ----- step: 1 ------ train_loss tensor(355.5441)\n",
      "epoch: 7 ----- step: 2 ------ train_loss tensor(354.6797)\n",
      "epoch: 7 ----- step: 3 ------ train_loss tensor(323.1911)\n",
      "epoch: 8 ----- step: 0 ------ train_loss tensor(261.3429)\n",
      "epoch: 8 ----- step: 1 ------ train_loss tensor(240.8941)\n",
      "epoch: 8 ----- step: 2 ------ train_loss tensor(207.1415)\n",
      "epoch: 8 ----- step: 3 ------ train_loss tensor(214.1684)\n",
      "epoch: 9 ----- step: 0 ------ train_loss tensor(154.4849)\n",
      "epoch: 9 ----- step: 1 ------ train_loss tensor(119.3975)\n",
      "epoch: 9 ----- step: 2 ------ train_loss tensor(112.1322)\n",
      "epoch: 9 ----- step: 3 ------ train_loss tensor(87.2203)\n",
      "epoch: 10 ----- step: 0 ------ train_loss tensor(92.7683)\n",
      "epoch: 10 ----- step: 1 ------ train_loss tensor(73.6207)\n",
      "epoch: 10 ----- step: 2 ------ train_loss tensor(59.2081)\n",
      "epoch: 10 ----- step: 3 ------ train_loss tensor(99.9677)\n",
      "epoch: 11 ----- step: 0 ------ train_loss tensor(86.3344)\n",
      "epoch: 11 ----- step: 1 ------ train_loss tensor(52.6275)\n",
      "epoch: 11 ----- step: 2 ------ train_loss tensor(62.0151)\n",
      "epoch: 11 ----- step: 3 ------ train_loss tensor(48.9220)\n",
      "epoch: 12 ----- step: 0 ------ train_loss tensor(58.5861)\n",
      "epoch: 12 ----- step: 1 ------ train_loss tensor(47.8589)\n",
      "epoch: 12 ----- step: 2 ------ train_loss tensor(42.6159)\n",
      "epoch: 12 ----- step: 3 ------ train_loss tensor(49.3320)\n",
      "epoch: 13 ----- step: 0 ------ train_loss tensor(44.3929)\n",
      "epoch: 13 ----- step: 1 ------ train_loss tensor(50.8374)\n",
      "epoch: 13 ----- step: 2 ------ train_loss tensor(50.4732)\n",
      "epoch: 13 ----- step: 3 ------ train_loss tensor(17.9332)\n",
      "epoch: 14 ----- step: 0 ------ train_loss tensor(57.6212)\n",
      "epoch: 14 ----- step: 1 ------ train_loss tensor(43.4051)\n",
      "epoch: 14 ----- step: 2 ------ train_loss tensor(25.2084)\n",
      "epoch: 14 ----- step: 3 ------ train_loss tensor(18.1971)\n",
      "epoch: 15 ----- step: 0 ------ train_loss tensor(40.0643)\n",
      "epoch: 15 ----- step: 1 ------ train_loss tensor(21.1032)\n",
      "epoch: 15 ----- step: 2 ------ train_loss tensor(47.1541)\n",
      "epoch: 15 ----- step: 3 ------ train_loss tensor(24.9900)\n",
      "epoch: 16 ----- step: 0 ------ train_loss tensor(53.5504)\n",
      "epoch: 16 ----- step: 1 ------ train_loss tensor(17.2102)\n",
      "epoch: 16 ----- step: 2 ------ train_loss tensor(30.6056)\n",
      "epoch: 16 ----- step: 3 ------ train_loss tensor(23.3835)\n",
      "epoch: 17 ----- step: 0 ------ train_loss tensor(30.8538)\n",
      "epoch: 17 ----- step: 1 ------ train_loss tensor(18.6427)\n",
      "epoch: 17 ----- step: 2 ------ train_loss tensor(26.4214)\n",
      "epoch: 17 ----- step: 3 ------ train_loss tensor(43.3817)\n",
      "epoch: 18 ----- step: 0 ------ train_loss tensor(35.4369)\n",
      "epoch: 18 ----- step: 1 ------ train_loss tensor(15.1344)\n",
      "epoch: 18 ----- step: 2 ------ train_loss tensor(23.9793)\n",
      "epoch: 18 ----- step: 3 ------ train_loss tensor(40.1274)\n",
      "epoch: 19 ----- step: 0 ------ train_loss tensor(25.5127)\n",
      "epoch: 19 ----- step: 1 ------ train_loss tensor(28.9588)\n",
      "epoch: 19 ----- step: 2 ------ train_loss tensor(27.8602)\n",
      "epoch: 19 ----- step: 3 ------ train_loss tensor(26.9295)\n",
      "epoch: 20 ----- step: 0 ------ train_loss tensor(26.1138)\n",
      "epoch: 20 ----- step: 1 ------ train_loss tensor(33.7793)\n",
      "epoch: 20 ----- step: 2 ------ train_loss tensor(22.6756)\n",
      "epoch: 20 ----- step: 3 ------ train_loss tensor(22.8132)\n",
      "epoch: 21 ----- step: 0 ------ train_loss tensor(19.6694)\n",
      "epoch: 21 ----- step: 1 ------ train_loss tensor(16.8621)\n",
      "epoch: 21 ----- step: 2 ------ train_loss tensor(27.5090)\n",
      "epoch: 21 ----- step: 3 ------ train_loss tensor(38.7514)\n",
      "epoch: 22 ----- step: 0 ------ train_loss tensor(17.5307)\n",
      "epoch: 22 ----- step: 1 ------ train_loss tensor(29.8926)\n",
      "epoch: 22 ----- step: 2 ------ train_loss tensor(20.5060)\n",
      "epoch: 22 ----- step: 3 ------ train_loss tensor(30.9519)\n",
      "epoch: 23 ----- step: 0 ------ train_loss tensor(17.9365)\n",
      "epoch: 23 ----- step: 1 ------ train_loss tensor(25.6026)\n",
      "epoch: 23 ----- step: 2 ------ train_loss tensor(28.8770)\n",
      "epoch: 23 ----- step: 3 ------ train_loss tensor(23.2594)\n",
      "epoch: 24 ----- step: 0 ------ train_loss tensor(29.5856)\n",
      "epoch: 24 ----- step: 1 ------ train_loss tensor(16.5561)\n",
      "epoch: 24 ----- step: 2 ------ train_loss tensor(21.4633)\n",
      "epoch: 24 ----- step: 3 ------ train_loss tensor(25.7087)\n",
      "epoch: 25 ----- step: 0 ------ train_loss tensor(21.5534)\n",
      "epoch: 25 ----- step: 1 ------ train_loss tensor(13.7874)\n",
      "epoch: 25 ----- step: 2 ------ train_loss tensor(17.2428)\n",
      "epoch: 25 ----- step: 3 ------ train_loss tensor(39.5069)\n",
      "epoch: 26 ----- step: 0 ------ train_loss tensor(20.1594)\n",
      "epoch: 26 ----- step: 1 ------ train_loss tensor(25.9315)\n",
      "epoch: 26 ----- step: 2 ------ train_loss tensor(23.7114)\n",
      "epoch: 26 ----- step: 3 ------ train_loss tensor(19.0820)\n",
      "epoch: 27 ----- step: 0 ------ train_loss tensor(24.9716)\n",
      "epoch: 27 ----- step: 1 ------ train_loss tensor(27.4502)\n",
      "epoch: 27 ----- step: 2 ------ train_loss tensor(22.1893)\n",
      "epoch: 27 ----- step: 3 ------ train_loss tensor(12.2233)\n",
      "epoch: 28 ----- step: 0 ------ train_loss tensor(13.0818)\n",
      "epoch: 28 ----- step: 1 ------ train_loss tensor(19.6057)\n",
      "epoch: 28 ----- step: 2 ------ train_loss tensor(28.7907)\n",
      "epoch: 28 ----- step: 3 ------ train_loss tensor(24.2050)\n",
      "epoch: 29 ----- step: 0 ------ train_loss tensor(27.6230)\n",
      "epoch: 29 ----- step: 1 ------ train_loss tensor(24.2576)\n",
      "epoch: 29 ----- step: 2 ------ train_loss tensor(16.2127)\n",
      "epoch: 29 ----- step: 3 ------ train_loss tensor(15.8545)\n"
     ]
    }
   ],
   "source": [
    "optimizer = SGD(mlpl.parameters(),lr=0.001)\n",
    "loss_func = nn.MSELoss()\n",
    "train_loss_all = []\n",
    "for epoch in range(30):\n",
    "    for step, (b_x, b_y) in  enumerate(train_loader):\n",
    "        output = mlpl(b_x).flatten()\n",
    "        train_loss = loss_func(output, b_y)\n",
    "        optimizer.zero_grad()\n",
    "        train_loss.backward()\n",
    "        optimizer.step()\n",
    "        train_loss_all.append(train_loss.item())\n",
    "        print(\"epoch:\",epoch,\"-----\",\"step:\",step,\"------\",\"train_loss\",train_loss.data)"
   ]
  },
  {
   "cell_type": "code",
   "execution_count": 39,
   "metadata": {},
   "outputs": [
    {
     "data": {
      "image/png": "[encoded data removed]",
      "text/plain": [
       "<Figure size 432x288 with 1 Axes>"
      ]
     },
     "metadata": {
      "needs_background": "light"
     },
     "output_type": "display_data"
    }
   ],
   "source": [
    "plt.figure()\n",
    "plt.plot(train_loss_all,\"r-\")\n",
    "plt.title(\"Train loss per iteration\")\n",
    "plt.show()"
   ]
  },
  {
   "cell_type": "code",
   "execution_count": 40,
   "metadata": {},
   "outputs": [],
   "source": [
    "class MLPmodel2(nn.Module):\n",
    "    def __init__(self):\n",
    "        super(MLPmodel2,self).__init__()\n",
    "        self.hidden = nn.Sequential(\n",
    "            nn.Linear(13, 10),\n",
    "            nn.ReLU(),\n",
    "            nn.Linear(10,10),\n",
    "            nn.ReLU(),\n",
    "        )\n",
    "        self.regression = nn.Linear(10,1)\n",
    "    def forward(self,x):\n",
    "        x = self.hidden(x)\n",
    "        output = self.regression(x)\n",
    "        return output"
   ]
  },
  {
   "cell_type": "code",
   "execution_count": 45,
   "metadata": {},
   "outputs": [
    {
     "name": "stdout",
     "output_type": "stream",
     "text": [
      "MLPmodel2(\n",
      "  (hidden): Sequential(\n",
      "    (0): Linear(in_features=13, out_features=10, bias=True)\n",
      "    (1): ReLU()\n",
      "    (2): Linear(in_features=10, out_features=10, bias=True)\n",
      "    (3): ReLU()\n",
      "  )\n",
      "  (regression): Linear(in_features=10, out_features=1, bias=True)\n",
      ")\n"
     ]
    }
   ],
   "source": [
    "mlp2 = MLPmodel2()\n",
    "print(mlp2)"
   ]
  },
  {
   "cell_type": "code",
   "execution_count": 47,
   "metadata": {},
   "outputs": [
    {
     "name": "stdout",
     "output_type": "stream",
     "text": [
      "epoch: 0 ----- step: 0 ------ train_loss tensor(597.2032)\n",
      "epoch: 0 ----- step: 1 ------ train_loss tensor(513.7489)\n",
      "epoch: 0 ----- step: 2 ------ train_loss tensor(524.9156)\n",
      "epoch: 0 ----- step: 3 ------ train_loss tensor(649.8109)\n",
      "epoch: 1 ----- step: 0 ------ train_loss tensor(534.0264)\n",
      "epoch: 1 ----- step: 1 ------ train_loss tensor(556.1136)\n",
      "epoch: 1 ----- step: 2 ------ train_loss tensor(636.1277)\n",
      "epoch: 1 ----- step: 3 ------ train_loss tensor(490.9826)\n",
      "epoch: 2 ----- step: 0 ------ train_loss tensor(551.5720)\n",
      "epoch: 2 ----- step: 1 ------ train_loss tensor(544.5460)\n",
      "epoch: 2 ----- step: 2 ------ train_loss tensor(510.9629)\n",
      "epoch: 2 ----- step: 3 ------ train_loss tensor(537.9717)\n",
      "epoch: 3 ----- step: 0 ------ train_loss tensor(536.5927)\n",
      "epoch: 3 ----- step: 1 ------ train_loss tensor(530.4486)\n",
      "epoch: 3 ----- step: 2 ------ train_loss tensor(501.9591)\n",
      "epoch: 3 ----- step: 3 ------ train_loss tensor(470.6795)\n",
      "epoch: 4 ----- step: 0 ------ train_loss tensor(534.3355)\n",
      "epoch: 4 ----- step: 1 ------ train_loss tensor(400.4925)\n",
      "epoch: 4 ----- step: 2 ------ train_loss tensor(499.3071)\n",
      "epoch: 4 ----- step: 3 ------ train_loss tensor(446.4997)\n",
      "epoch: 5 ----- step: 0 ------ train_loss tensor(381.2195)\n",
      "epoch: 5 ----- step: 1 ------ train_loss tensor(365.9421)\n",
      "epoch: 5 ----- step: 2 ------ train_loss tensor(453.1989)\n",
      "epoch: 5 ----- step: 3 ------ train_loss tensor(407.9091)\n",
      "epoch: 6 ----- step: 0 ------ train_loss tensor(338.6416)\n",
      "epoch: 6 ----- step: 1 ------ train_loss tensor(263.6366)\n",
      "epoch: 6 ----- step: 2 ------ train_loss tensor(292.3011)\n",
      "epoch: 6 ----- step: 3 ------ train_loss tensor(239.0067)\n",
      "epoch: 7 ----- step: 0 ------ train_loss tensor(149.8970)\n",
      "epoch: 7 ----- step: 1 ------ train_loss tensor(173.3377)\n",
      "epoch: 7 ----- step: 2 ------ train_loss tensor(121.8627)\n",
      "epoch: 7 ----- step: 3 ------ train_loss tensor(124.5161)\n",
      "epoch: 8 ----- step: 0 ------ train_loss tensor(70.6436)\n",
      "epoch: 8 ----- step: 1 ------ train_loss tensor(79.7427)\n",
      "epoch: 8 ----- step: 2 ------ train_loss tensor(80.3375)\n",
      "epoch: 8 ----- step: 3 ------ train_loss tensor(61.2761)\n",
      "epoch: 9 ----- step: 0 ------ train_loss tensor(52.5265)\n",
      "epoch: 9 ----- step: 1 ------ train_loss tensor(57.6546)\n",
      "epoch: 9 ----- step: 2 ------ train_loss tensor(48.0553)\n",
      "epoch: 9 ----- step: 3 ------ train_loss tensor(53.2840)\n",
      "epoch: 10 ----- step: 0 ------ train_loss tensor(40.4364)\n",
      "epoch: 10 ----- step: 1 ------ train_loss tensor(40.7455)\n",
      "epoch: 10 ----- step: 2 ------ train_loss tensor(48.1372)\n",
      "epoch: 10 ----- step: 3 ------ train_loss tensor(41.2616)\n",
      "epoch: 11 ----- step: 0 ------ train_loss tensor(35.1236)\n",
      "epoch: 11 ----- step: 1 ------ train_loss tensor(42.7527)\n",
      "epoch: 11 ----- step: 2 ------ train_loss tensor(36.7892)\n",
      "epoch: 11 ----- step: 3 ------ train_loss tensor(30.8593)\n",
      "epoch: 12 ----- step: 0 ------ train_loss tensor(29.7746)\n",
      "epoch: 12 ----- step: 1 ------ train_loss tensor(35.0450)\n",
      "epoch: 12 ----- step: 2 ------ train_loss tensor(28.5358)\n",
      "epoch: 12 ----- step: 3 ------ train_loss tensor(37.4417)\n",
      "epoch: 13 ----- step: 0 ------ train_loss tensor(45.0432)\n",
      "epoch: 13 ----- step: 1 ------ train_loss tensor(20.1004)\n",
      "epoch: 13 ----- step: 2 ------ train_loss tensor(24.8972)\n",
      "epoch: 13 ----- step: 3 ------ train_loss tensor(30.4335)\n",
      "epoch: 14 ----- step: 0 ------ train_loss tensor(36.7319)\n",
      "epoch: 14 ----- step: 1 ------ train_loss tensor(15.9300)\n",
      "epoch: 14 ----- step: 2 ------ train_loss tensor(25.6300)\n",
      "epoch: 14 ----- step: 3 ------ train_loss tensor(35.5627)\n",
      "epoch: 15 ----- step: 0 ------ train_loss tensor(23.7352)\n",
      "epoch: 15 ----- step: 1 ------ train_loss tensor(32.1783)\n",
      "epoch: 15 ----- step: 2 ------ train_loss tensor(29.5561)\n",
      "epoch: 15 ----- step: 3 ------ train_loss tensor(21.8640)\n",
      "epoch: 16 ----- step: 0 ------ train_loss tensor(15.5914)\n",
      "epoch: 16 ----- step: 1 ------ train_loss tensor(25.4252)\n",
      "epoch: 16 ----- step: 2 ------ train_loss tensor(31.2378)\n",
      "epoch: 16 ----- step: 3 ------ train_loss tensor(31.0051)\n",
      "epoch: 17 ----- step: 0 ------ train_loss tensor(20.8340)\n",
      "epoch: 17 ----- step: 1 ------ train_loss tensor(28.0669)\n",
      "epoch: 17 ----- step: 2 ------ train_loss tensor(19.0902)\n",
      "epoch: 17 ----- step: 3 ------ train_loss tensor(31.3811)\n",
      "epoch: 18 ----- step: 0 ------ train_loss tensor(29.7464)\n",
      "epoch: 18 ----- step: 1 ------ train_loss tensor(17.1523)\n",
      "epoch: 18 ----- step: 2 ------ train_loss tensor(21.4956)\n",
      "epoch: 18 ----- step: 3 ------ train_loss tensor(27.8791)\n",
      "epoch: 19 ----- step: 0 ------ train_loss tensor(21.7191)\n",
      "epoch: 19 ----- step: 1 ------ train_loss tensor(18.6136)\n",
      "epoch: 19 ----- step: 2 ------ train_loss tensor(24.8931)\n",
      "epoch: 19 ----- step: 3 ------ train_loss tensor(28.2920)\n",
      "epoch: 20 ----- step: 0 ------ train_loss tensor(14.6951)\n",
      "epoch: 20 ----- step: 1 ------ train_loss tensor(22.7222)\n",
      "epoch: 20 ----- step: 2 ------ train_loss tensor(16.2261)\n",
      "epoch: 20 ----- step: 3 ------ train_loss tensor(38.0803)\n",
      "epoch: 21 ----- step: 0 ------ train_loss tensor(16.5595)\n",
      "epoch: 21 ----- step: 1 ------ train_loss tensor(22.0536)\n",
      "epoch: 21 ----- step: 2 ------ train_loss tensor(24.7702)\n",
      "epoch: 21 ----- step: 3 ------ train_loss tensor(25.2624)\n",
      "epoch: 22 ----- step: 0 ------ train_loss tensor(16.0170)\n",
      "epoch: 22 ----- step: 1 ------ train_loss tensor(18.8791)\n",
      "epoch: 22 ----- step: 2 ------ train_loss tensor(36.7272)\n",
      "epoch: 22 ----- step: 3 ------ train_loss tensor(15.2648)\n",
      "epoch: 23 ----- step: 0 ------ train_loss tensor(13.6374)\n",
      "epoch: 23 ----- step: 1 ------ train_loss tensor(22.2317)\n",
      "epoch: 23 ----- step: 2 ------ train_loss tensor(19.0403)\n",
      "epoch: 23 ----- step: 3 ------ train_loss tensor(30.1728)\n",
      "epoch: 24 ----- step: 0 ------ train_loss tensor(23.6363)\n",
      "epoch: 24 ----- step: 1 ------ train_loss tensor(21.6564)\n",
      "epoch: 24 ----- step: 2 ------ train_loss tensor(20.7603)\n",
      "epoch: 24 ----- step: 3 ------ train_loss tensor(16.4838)\n",
      "epoch: 25 ----- step: 0 ------ train_loss tensor(12.6332)\n",
      "epoch: 25 ----- step: 1 ------ train_loss tensor(21.7769)\n",
      "epoch: 25 ----- step: 2 ------ train_loss tensor(15.1934)\n",
      "epoch: 25 ----- step: 3 ------ train_loss tensor(32.5685)\n",
      "epoch: 26 ----- step: 0 ------ train_loss tensor(32.0313)\n",
      "epoch: 26 ----- step: 1 ------ train_loss tensor(13.7476)\n",
      "epoch: 26 ----- step: 2 ------ train_loss tensor(18.6575)\n",
      "epoch: 26 ----- step: 3 ------ train_loss tensor(15.2941)\n",
      "epoch: 27 ----- step: 0 ------ train_loss tensor(21.8563)\n",
      "epoch: 27 ----- step: 1 ------ train_loss tensor(15.3258)\n",
      "epoch: 27 ----- step: 2 ------ train_loss tensor(19.2471)\n",
      "epoch: 27 ----- step: 3 ------ train_loss tensor(21.8668)\n",
      "epoch: 28 ----- step: 0 ------ train_loss tensor(24.9786)\n",
      "epoch: 28 ----- step: 1 ------ train_loss tensor(16.1011)\n",
      "epoch: 28 ----- step: 2 ------ train_loss tensor(20.8776)\n",
      "epoch: 28 ----- step: 3 ------ train_loss tensor(14.7949)\n",
      "epoch: 29 ----- step: 0 ------ train_loss tensor(18.8718)\n",
      "epoch: 29 ----- step: 1 ------ train_loss tensor(15.6920)\n",
      "epoch: 29 ----- step: 2 ------ train_loss tensor(21.5148)\n",
      "epoch: 29 ----- step: 3 ------ train_loss tensor(20.4543)\n"
     ]
    },
    {
     "data": {
      "image/png": "[encoded data removed]",
      "text/plain": [
       "<Figure size 432x288 with 1 Axes>"
      ]
     },
     "metadata": {
      "needs_background": "light"
     },
     "output_type": "display_data"
    }
   ],
   "source": [
    "optimizer = SGD(mlp2.parameters(),lr=0.001)\n",
    "loss_func = nn.MSELoss()\n",
    "train_loss_all = []\n",
    "for epoch in range(30):\n",
    "    for step, (b_x, b_y) in  enumerate(train_loader):\n",
    "#         print(mlpl(b_x),mlpl(b_x).shape)\n",
    "        output = mlp2(b_x).flatten()\n",
    "#         print(output,output.shape)\n",
    "        train_loss = loss_func(output, b_y)\n",
    "        optimizer.zero_grad()\n",
    "        train_loss.backward()\n",
    "        optimizer.step()\n",
    "        train_loss_all.append(train_loss.item())\n",
    "        print(\"epoch:\",epoch,\"-----\",\"step:\",step,\"------\",\"train_loss\",train_loss.data)\n",
    "\n",
    "plt.figure()\n",
    "plt.plot(train_loss_all,\"r-\")\n",
    "plt.title(\"Train loss per iteration\")\n",
    "plt.show()"
   ]
  },
  {
   "cell_type": "code",
   "execution_count": 48,
   "metadata": {},
   "outputs": [
    {
     "name": "stderr",
     "output_type": "stream",
     "text": [
      "D:\\TOOL\\Anoconda\\envs\\torch\\lib\\site-packages\\torch\\serialization.py:256: UserWarning: Couldn't retrieve source code for container of type MLPmodel2. It won't be checked for correctness upon loading.\n",
      "  \"type \" + obj.__name__ + \". It won't be checked \"\n"
     ]
    },
    {
     "data": {
      "text/plain": [
       "MLPmodel2(\n",
       "  (hidden): Sequential(\n",
       "    (0): Linear(in_features=13, out_features=10, bias=True)\n",
       "    (1): ReLU()\n",
       "    (2): Linear(in_features=10, out_features=10, bias=True)\n",
       "    (3): ReLU()\n",
       "  )\n",
       "  (regression): Linear(in_features=10, out_features=1, bias=True)\n",
       ")"
      ]
     },
     "execution_count": 48,
     "metadata": {},
     "output_type": "execute_result"
    }
   ],
   "source": [
    "#保存整个模型\n",
    "torch.save(mlp2,\"data/mlp2.pkl\")\n",
    "mlp2load = torch.load(\"data/mlp2.pkl\")\n",
    "mlp2load"
   ]
  },
  {
   "cell_type": "code",
   "execution_count": 49,
   "metadata": {},
   "outputs": [
    {
     "data": {
      "text/plain": [
       "OrderedDict([('hidden.0.weight',\n",
       "              tensor([[-2.9876e-01, -2.2718e-01,  3.1674e-02, -3.2394e-01,  1.7335e-01,\n",
       "                        1.3094e-01, -9.1183e-02,  1.9980e-01,  1.4359e-01,  1.1545e-01,\n",
       "                        4.4947e-03, -8.1273e-02, -3.2881e-01],\n",
       "                      [-7.9203e-03, -2.8951e-01, -3.3162e-02, -1.7250e-02, -2.7756e-01,\n",
       "                        5.1341e-01,  4.3977e-02,  4.4420e-02, -2.1179e-01, -2.4624e-01,\n",
       "                       -2.1456e-01,  2.4236e-01, -3.1346e-01],\n",
       "                      [-2.1305e-02,  1.5617e-01,  3.7850e-01,  8.0579e-02,  2.0064e-02,\n",
       "                        5.0930e-02,  2.5774e-01, -2.7807e-01,  2.8826e-01,  3.4603e-01,\n",
       "                        9.5246e-02,  2.9323e-01, -3.2147e-01],\n",
       "                      [-4.0745e-02,  1.1183e-02, -1.9488e-01, -6.9436e-02, -2.5438e-01,\n",
       "                        4.5559e-01, -1.5185e-02, -2.6537e-01, -6.2093e-01, -6.6279e-01,\n",
       "                       -2.1829e-01,  1.2020e-01, -1.1713e-01],\n",
       "                      [ 1.6337e-02,  2.1522e-01,  2.1981e-01, -1.6550e-01, -5.1804e-02,\n",
       "                        1.9507e-01, -2.8548e-01, -7.3017e-02, -8.2959e-02,  2.0452e-01,\n",
       "                       -4.4375e-02,  9.6440e-02, -4.8785e-02],\n",
       "                      [-2.3227e-01,  1.1690e-01, -9.2455e-02, -2.4854e-01, -1.8740e-01,\n",
       "                        2.3924e-01, -2.5091e-01,  2.9264e-02, -3.5523e-01, -1.1839e-01,\n",
       "                        4.1078e-02,  1.9717e-01, -2.0090e-01],\n",
       "                      [ 1.5337e-01, -2.9182e-01,  2.5591e-01,  4.8335e-01,  7.1543e-02,\n",
       "                       -4.4682e-02,  1.2320e-01,  8.2131e-02,  1.7622e-01,  8.2602e-02,\n",
       "                       -3.7528e-02, -1.5054e-01,  1.0685e-01],\n",
       "                      [-2.1949e-01, -1.4374e-01,  1.5003e-02,  3.7950e-02,  1.8061e-04,\n",
       "                       -1.0171e-01, -2.0916e-01,  9.7801e-02,  2.1689e-01,  1.7567e-01,\n",
       "                        4.6840e-02, -2.5532e-01, -8.8137e-02],\n",
       "                      [-2.6132e-01,  2.5540e-02,  1.2265e-01,  2.0260e-01, -2.6319e-01,\n",
       "                       -1.0090e-01,  3.5856e-02, -1.1916e-01, -9.4390e-03, -9.9702e-02,\n",
       "                        1.5070e-01,  1.2960e-01,  2.4040e-01],\n",
       "                      [-4.7302e-01,  1.3748e-01,  3.2967e-01,  2.2938e-01,  4.9176e-02,\n",
       "                        3.4437e-01,  1.3183e-01, -5.2523e-01,  4.1041e-01,  2.8502e-01,\n",
       "                       -2.3386e-01,  9.2146e-02, -4.2541e-01]])),\n",
       "             ('hidden.0.bias',\n",
       "              tensor([ 0.1853,  0.6153, -0.1147,  1.0101,  0.0569,  0.6267,  0.0531, -0.0881,\n",
       "                       0.1234,  0.7501])),\n",
       "             ('hidden.2.weight',\n",
       "              tensor([[-0.2250, -0.2824, -0.3090, -0.2679, -0.2512, -0.2641,  0.2693, -0.2555,\n",
       "                       -0.1900,  0.2288],\n",
       "                      [ 0.0783, -0.0768, -0.0893, -0.2651, -0.1761, -0.2522,  0.2670,  0.0406,\n",
       "                       -0.1770, -0.0037],\n",
       "                      [ 0.2940,  0.2325,  0.3159,  0.7182,  0.1015,  0.3703,  0.3956, -0.1607,\n",
       "                        0.1074,  0.6431],\n",
       "                      [ 0.0980, -0.0186,  0.2960,  0.2979,  0.1190, -0.3048,  0.2415,  0.1100,\n",
       "                        0.1757, -0.1853],\n",
       "                      [ 0.2048,  0.4975, -0.0189,  0.7544,  0.3610,  0.0394,  0.3868,  0.0651,\n",
       "                        0.1192,  0.6967],\n",
       "                      [-0.0800, -0.1889,  0.2531, -0.1146, -0.0938, -0.1141, -0.1198,  0.0349,\n",
       "                        0.3093,  0.1275],\n",
       "                      [ 0.0335,  0.5293,  0.5450,  0.8984,  0.2731,  0.7310,  0.1155,  0.2714,\n",
       "                        0.0649,  0.7490],\n",
       "                      [ 0.0766,  0.2186, -0.2494,  0.0601,  0.0584,  0.1849,  0.0724, -0.2289,\n",
       "                        0.2861, -0.0013],\n",
       "                      [-0.1381,  0.4104,  0.3074,  0.4192,  0.2812,  0.1622, -0.2208,  0.3279,\n",
       "                        0.1727,  0.1122],\n",
       "                      [ 0.3671,  0.4549,  0.4239,  0.3666, -0.1490,  0.2740,  0.0220, -0.2461,\n",
       "                        0.1376,  0.3874]])),\n",
       "             ('hidden.2.bias',\n",
       "              tensor([-0.2400,  0.1778,  0.8490,  0.0344,  0.6043, -0.2784,  1.0287,  0.1745,\n",
       "                       0.0444,  0.5928])),\n",
       "             ('regression.weight',\n",
       "              tensor([[0.0469, 0.0291, 1.3960, 0.0614, 1.2426, 0.0391, 1.8071, 0.2945, 0.4956,\n",
       "                       1.0149]])),\n",
       "             ('regression.bias', tensor([1.5478]))])"
      ]
     },
     "execution_count": 49,
     "metadata": {},
     "output_type": "execute_result"
    }
   ],
   "source": [
    "#只保存模型参数\n",
    "torch.save(mlp2.state_dict(),\"data/mlp2_param.pkl\")\n",
    "mlp2param = torch.load(\"data/mlp2_param.pkl\")\n",
    "mlp2param"
   ]
  },
  {
   "cell_type": "code",
   "execution_count": null,
   "metadata": {},
   "outputs": [],
   "source": []
  }
 ],
 "metadata": {
  "kernelspec": {
   "display_name": "Python 3",
   "language": "python",
   "name": "python3"
  },
  "language_info": {
   "codemirror_mode": {
    "name": "ipython",
    "version": 3
   },
   "file_extension": ".py",
   "mimetype": "text/x-python",
   "name": "python",
   "nbconvert_exporter": "python",
   "pygments_lexer": "ipython3",
   "version": "3.6.10"
  }
 },
 "nbformat": 4,
 "nbformat_minor": 4
}
