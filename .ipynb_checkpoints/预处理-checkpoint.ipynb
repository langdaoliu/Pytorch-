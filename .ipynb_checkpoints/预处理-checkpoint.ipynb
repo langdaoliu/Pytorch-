{
 "cells": [
  {
   "cell_type": "code",
   "execution_count": 1,
   "metadata": {},
   "outputs": [
    {
     "name": "stdout",
     "output_type": "stream",
     "text": [
      "boston_X.dtype: float64\n",
      "boston_Y.dtype: float64\n"
     ]
    }
   ],
   "source": [
    "import torch\n",
    "import torch.utils.data as Data\n",
    "from sklearn.datasets import load_boston,load_iris\n",
    "\n",
    "boston_X, boston_Y = load_boston(return_X_y=True)\n",
    "print(\"boston_X.dtype:\",boston_X.dtype)\n",
    "print(\"boston_Y.dtype:\",boston_Y.dtype)"
   ]
  },
  {
   "cell_type": "code",
   "execution_count": 3,
   "metadata": {},
   "outputs": [
    {
     "name": "stdout",
     "output_type": "stream",
     "text": [
      "train_xt.dtype: torch.float32\n",
      "train_yt.dtype: torch.float32\n"
     ]
    }
   ],
   "source": [
    "import numpy as np\n",
    "train_xt = torch.from_numpy(boston_X.astype(np.float32))\n",
    "train_yt = torch.from_numpy(boston_Y.astype(np.float32))\n",
    "print(\"train_xt.dtype:\",train_xt.dtype)\n",
    "print(\"train_yt.dtype:\",train_yt.dtype)"
   ]
  },
  {
   "cell_type": "code",
   "execution_count": 4,
   "metadata": {},
   "outputs": [
    {
     "name": "stdout",
     "output_type": "stream",
     "text": [
      "b_x.shape torch.Size([64, 13])\n",
      "b_y.shape torch.Size([64])\n",
      "b_x.dtype torch.float32\n",
      "b_y.dtype torch.float32\n"
     ]
    }
   ],
   "source": [
    "#将训练集转化为张量后，使用TensorDataset将X,Y整理到一起\n",
    "train_data = Data.TensorDataset(train_xt,train_yt)\n",
    "#定义一个数据加载器\n",
    "train_loader = Data.DataLoader(\n",
    "    dataset = train_data,\n",
    "    batch_size = 64,\n",
    "    shuffle=True,\n",
    "    num_workers=1,#使用两个进程\n",
    ")\n",
    "#检查训练数据集的一个batch的样本维度是否正确\n",
    "for step, (b_x,b_y) in enumerate(train_loader):\n",
    "    if step>0:\n",
    "        break\n",
    "print(\"b_x.shape\",b_x.shape)\n",
    "print(\"b_y.shape\",b_y.shape)\n",
    "print(\"b_x.dtype\",b_x.dtype)\n",
    "print(\"b_y.dtype\",b_y.dtype)"
   ]
  },
  {
   "cell_type": "code",
   "execution_count": 5,
   "metadata": {},
   "outputs": [
    {
     "name": "stdout",
     "output_type": "stream",
     "text": [
      "iris_x.dtype: float64\n",
      "irisy.dtype: float64\n"
     ]
    }
   ],
   "source": [
    "#分类数据准备\n",
    "iris_x,irisy = load_iris(return_X_y=True)\n",
    "print(\"iris_x.dtype:\",boston_X.dtype)\n",
    "print(\"irisy.dtype:\",boston_Y.dtype)"
   ]
  },
  {
   "cell_type": "code",
   "execution_count": 6,
   "metadata": {},
   "outputs": [
    {
     "name": "stdout",
     "output_type": "stream",
     "text": [
      "train_xt.dtype: torch.float32\n",
      "train_yt.dtype: torch.float32\n"
     ]
    }
   ],
   "source": [
    "#X,Y转化为张量\n",
    "train_xt = torch.from_numpy(iris_x.astype(np.float32))\n",
    "train_yt = torch.from_numpy(irisy.astype(np.float32))\n",
    "print(\"train_xt.dtype:\",train_xt.dtype)\n",
    "print(\"train_yt.dtype:\",train_yt.dtype)"
   ]
  },
  {
   "cell_type": "code",
   "execution_count": 7,
   "metadata": {},
   "outputs": [
    {
     "name": "stdout",
     "output_type": "stream",
     "text": [
      "b_x.shape torch.Size([10, 4])\n",
      "b_y.shape torch.Size([10])\n",
      "b_x.dtype torch.float32\n",
      "b_y.dtype torch.float32\n"
     ]
    }
   ],
   "source": [
    "#将训练集转化为张量后，使用TensorDataset将X,Y整理到一起\n",
    "train_data = Data.TensorDataset(train_xt,train_yt)\n",
    "#定义一个数据加载器\n",
    "train_loader = Data.DataLoader(\n",
    "    dataset = train_data,\n",
    "    batch_size = 10,\n",
    "    shuffle=True,\n",
    "    num_workers=1,#使用两个进程\n",
    ")\n",
    "#检查训练数据集的一个batch的样本维度是否正确\n",
    "for step, (b_x,b_y) in enumerate(train_loader):\n",
    "    if step>0:\n",
    "        break\n",
    "print(\"b_x.shape\",b_x.shape)\n",
    "print(\"b_y.shape\",b_y.shape)\n",
    "print(\"b_x.dtype\",b_x.dtype)\n",
    "print(\"b_y.dtype\",b_y.dtype)"
   ]
  },
  {
   "cell_type": "code",
   "execution_count": null,
   "metadata": {},
   "outputs": [],
   "source": []
  }
 ],
 "metadata": {
  "kernelspec": {
   "display_name": "Python 3",
   "language": "python",
   "name": "python3"
  },
  "language_info": {
   "codemirror_mode": {
    "name": "ipython",
    "version": 3
   },
   "file_extension": ".py",
   "mimetype": "text/x-python",
   "name": "python",
   "nbconvert_exporter": "python",
   "pygments_lexer": "ipython3",
   "version": "3.6.10"
  }
 },
 "nbformat": 4,
 "nbformat_minor": 4
}
