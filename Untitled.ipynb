{
 "cells": [
  {
   "cell_type": "code",
   "execution_count": 4,
   "metadata": {},
   "outputs": [
    {
     "name": "stdout",
     "output_type": "stream",
     "text": [
      "2222875838728\n",
      "2222875838728\n"
     ]
    }
   ],
   "source": [
    " def countSubstrings(self, s: str) -> int:\n",
    "        # dp[i][j] 代表 子串[i, j] 是否是一个 回文串\n",
    "        n = len(s)\n",
    "        dp = [[False] * n for _ in range(n)]\n",
    "        count = 0\n",
    "        # 枚举所有可能 因为代表子串 所以 i <= j\n",
    "        for j in range(n):\n",
    "            for i in range(0, j + 1):\n",
    "                # 子串长度\n",
    "                length = j - i + 1\n",
    "                # 只有一个字符 直接就是一个回文串\n",
    "                if length == 1:\n",
    "                    dp[i][j] = True\n",
    "                    count += 1\n",
    "                # 两个字符 只有相等才是回文串\n",
    "                if length == 2 and s[i] == s[j]:\n",
    "                    dp[i][j] = True\n",
    "                    count += 1\n",
    "                # 超过两个字符 首位相同 且除去首尾的子串是回文串 才是回文串\n",
    "                if length > 2 and s[i] == s[j] and dp[i+1][j-1] is True:\n",
    "                    dp[i][j] = True\n",
    "                    count += 1\n",
    "        return count"
   ]
  },
  {
   "cell_type": "code",
   "execution_count": 5,
   "metadata": {},
   "outputs": [
    {
     "name": "stdout",
     "output_type": "stream",
     "text": [
      "[4, 9, 2, 3, 4]\n"
     ]
    }
   ],
   "source": [
    "S[1] = 9\n",
    "print(a)\n"
   ]
  },
  {
   "cell_type": "code",
   "execution_count": 3,
   "metadata": {},
   "outputs": [
    {
     "name": "stdout",
     "output_type": "stream",
     "text": [
      "2222876098184\n"
     ]
    }
   ],
   "source": [
    "print(id(S))"
   ]
  },
  {
   "cell_type": "code",
   "execution_count": 82,
   "metadata": {},
   "outputs": [
    {
     "data": {
      "text/plain": [
       "''"
      ]
     },
     "execution_count": 82,
     "metadata": {},
     "output_type": "execute_result"
    }
   ],
   "source": [
    "result"
   ]
  },
  {
   "cell_type": "code",
   "execution_count": 60,
   "metadata": {},
   "outputs": [
    {
     "name": "stdout",
     "output_type": "stream",
     "text": [
      "3\n",
      "2\n",
      "100\n",
      "n1-n2: 1\n",
      "800\n"
     ]
    }
   ],
   "source": [
    " def countSubstrings(self, s: str) -> int:\n",
    "        # dp[i][j] 代表 子串[i, j] 是否是一个 回文串\n",
    "        n = len(s)\n",
    "        dp = [[False] * n for _ in range(n)]\n",
    "        count = 0\n",
    "        # 枚举所有可能 因为代表子串 所以 i <= j\n",
    "        for j in range(n):\n",
    "            for i in range(0, j + 1):\n",
    "                # 子串长度\n",
    "                length = j - i + 1\n",
    "                # 只有一个字符 直接就是一个回文串\n",
    "                if length == 1:\n",
    "                    dp[i][j] = True\n",
    "                    count += 1\n",
    "                # 两个字符 只有相等才是回文串\n",
    "                if length == 2 and s[i] == s[j]:\n",
    "                    dp[i][j] = True\n",
    "                    count += 1\n",
    "                # 超过两个字符 首位相同 且除去首尾的子串是回文串 才是回文串\n",
    "                if length > 2 and s[i] == s[j] and dp[i+1][j-1] is True:\n",
    "                    dp[i][j] = True\n",
    "                    count += 1\n",
    "        return count\n"
   ]
  },
  {
   "cell_type": "code",
   "execution_count": 8,
   "metadata": {},
   "outputs": [
    {
     "ename": "NameError",
     "evalue": "name 'q' is not defined",
     "output_type": "error",
     "traceback": [
      "\u001b[1;31m---------------------------------------------------------------------------\u001b[0m",
      "\u001b[1;31mNameError\u001b[0m                                 Traceback (most recent call last)",
      "\u001b[1;32m<ipython-input-8-0c3a0de08026>\u001b[0m in \u001b[0;36m<module>\u001b[1;34m\u001b[0m\n\u001b[1;32m----> 1\u001b[1;33m \u001b[0mres\u001b[0m \u001b[1;33m=\u001b[0m \u001b[0misSameTree\u001b[0m\u001b[1;33m(\u001b[0m\u001b[0mp\u001b[0m\u001b[1;33m,\u001b[0m \u001b[0mq\u001b[0m\u001b[1;33m)\u001b[0m\u001b[1;33m\u001b[0m\u001b[1;33m\u001b[0m\u001b[0m\n\u001b[0m\u001b[0;32m      2\u001b[0m \u001b[0mres\u001b[0m\u001b[1;33m\u001b[0m\u001b[1;33m\u001b[0m\u001b[0m\n",
      "\u001b[1;31mNameError\u001b[0m: name 'q' is not defined"
     ]
    }
   ],
   "source": [
    "res = isSameTree(p, q)\n",
    "res"
   ]
  },
  {
   "cell_type": "code",
   "execution_count": null,
   "metadata": {},
   "outputs": [],
   "source": []
  }
 ],
 "metadata": {
  "kernelspec": {
   "display_name": "Python 3",
   "language": "python",
   "name": "python3"
  },
  "language_info": {
   "codemirror_mode": {
    "name": "ipython",
    "version": 3
   },
   "file_extension": ".py",
   "mimetype": "text/x-python",
   "name": "python",
   "nbconvert_exporter": "python",
   "pygments_lexer": "ipython3",
   "version": "3.6.10"
  }
 },
 "nbformat": 4,
 "nbformat_minor": 4
}
